{
  "nbformat": 4,
  "nbformat_minor": 0,
  "metadata": {
    "colab": {
      "provenance": [],
      "authorship_tag": "ABX9TyMeJr8uYAteM0uejzXRNl70"
    },
    "kernelspec": {
      "name": "python3",
      "display_name": "Python 3"
    },
    "language_info": {
      "name": "python"
    }
  },
  "cells": [
    {
      "cell_type": "code",
      "execution_count": null,
      "metadata": {
        "id": "U49C-cCv6XBA"
      },
      "outputs": [],
      "source": [
        "import csv\n",
        "from datetime import datetime"
      ]
    },
    {
      "cell_type": "code",
      "source": [
        "with open('Menu.txt', 'w') as f:\n",
        "    f.write('* Lütfen Bir Pizza Tabanı Seçiniz:\\n'\n",
        "            '1: Klasik Pizza\\n'\n",
        "            '2: Margarita Pizza\\n'\n",
        "            '3: Türk Pizza\\n'\n",
        "            '4: Sade Pizza\\n'\n",
        "            '* ve seçeceğiniz sos:\\n'\n",
        "            '10: Zeytin\\n'\n",
        "            '11: Mantar\\n'\n",
        "            '12: Keçi Peyniri\\n'\n",
        "            '13: Domates\\n'\n",
        "            '* Teşekkür ederiz!\\n')"
      ],
      "metadata": {
        "id": "Qh-jODIm8oT8"
      },
      "execution_count": null,
      "outputs": []
    },
    {
      "cell_type": "code",
      "source": [
        "class Pizza:\n",
        "    def __init__(self, description, cost):\n",
        "        self.description = description\n",
        "        self.cost = cost\n",
        "        \n",
        "    def get_description(self):\n",
        "        return self.description\n",
        "    \n",
        "    def get_cost(self):\n",
        "        return self.cost"
      ],
      "metadata": {
        "id": "nu6CzjKy6gR6"
      },
      "execution_count": null,
      "outputs": []
    },
    {
      "cell_type": "code",
      "source": [
        "class Klasik(Pizza):\n",
        "    def __init__(self):\n",
        "        self.cost=120\n",
        "        self.desc=\"Klasik pizza:Mozerella peyniri, pepperoni, jambon, sosis, domates, sucuk, mantar, yeşilbiber, siyah zeytin, mısır  \"\n",
        "\n",
        "class Margarita(Pizza):\n",
        "    def __init__(self):\n",
        "        self.cost=115\n",
        "        self.desc=\"Margarita pizaa: Domates, mozarella, fesleğen, zeytinyağı \"\n",
        "\n",
        "class TurkPizza(Pizza):\n",
        "    def __init__(self):\n",
        "        self.cost=135\n",
        "        self.desc=\"Türk pizza: Sucuk, pastırma, biber, ve mantar \"\n",
        "    \n",
        "class SadePizza(Pizza):\n",
        "    def __init__(self):\n",
        "        self.cost=110\n",
        "        self.desc=\"Sade pizza :Domates, mozzarella  \""
      ],
      "metadata": {
        "id": "X208cGnx7Thm"
      },
      "execution_count": null,
      "outputs": []
    },
    {
      "cell_type": "code",
      "source": [
        "class ToppingDecarotor(Pizza):\n",
        "    def __init__(self, pizza):\n",
        "        self.pizza = pizza\n",
        "\n",
        "    def get_description(self):\n",
        "        return self.pizza.get_description()\n",
        "    \n",
        "    def get_cost(self):\n",
        "        return self.pizza.get_cost()"
      ],
      "metadata": {
        "id": "mccFU1En_77B"
      },
      "execution_count": null,
      "outputs": []
    },
    {
      "cell_type": "code",
      "source": [
        "class Zeytin(ToppingDecarotor):\n",
        "    def __init__(self, pizza):\n",
        "        super().__init__(pizza)\n",
        "        self.cost = 10\n",
        "        self.description = \"Zeytin\"\n",
        "        \n",
        "    def get_description(self):\n",
        "        return self.description\n",
        "    \n",
        "    def get_cost(self):\n",
        "        return self.cost\n",
        "    \n",
        "class Mantar(ToppingDecarotor):\n",
        "    def __init__(self, pizza):\n",
        "        super().__init__(pizza)\n",
        "        self.cost = 15\n",
        "        self.description = \"Mantar\"\n",
        "        \n",
        "    def get_description(self):\n",
        "        return self.description\n",
        "    \n",
        "    def get_cost(self):\n",
        "        return self.cost\n",
        "    \n",
        "class Peynir(ToppingDecarotor):\n",
        "    def __init__(self, pizza):\n",
        "        super().__init__(pizza)\n",
        "        self.cost = 20\n",
        "        self.description = \"Keçi Peyniri\"\n",
        "        \n",
        "    def get_description(self):\n",
        "        return self.description\n",
        "    \n",
        "    def get_cost(self):\n",
        "        return self.cost\n",
        "    \n",
        "class Et(ToppingDecarotor):\n",
        "    def __init__(self, pizza):\n",
        "        super().__init__(pizza)\n",
        "        self.cost = 25\n",
        "        self.description = \"Et\"\n",
        "        \n",
        "    def get_description(self):\n",
        "        return self.description\n",
        "    \n",
        "    def get_cost(self):\n",
        "        return self.cost\n",
        "    \n",
        "class Sogan(ToppingDecarotor):\n",
        "    def __init__(self, pizza):\n",
        "        super().__init__(pizza)\n",
        "        self.cost = 9\n",
        "        self.description = \"Soğan\"\n",
        "        \n",
        "    def get_description(self):\n",
        "        return self.description\n",
        "    \n",
        "    def get_cost(self):\n",
        "        return self.cost\n",
        "\n",
        "class Misir(ToppingDecarotor):\n",
        "    def __init__(self, pizza):\n",
        "        super().__init__(pizza)\n",
        "        self.cost = 8\n",
        "        self.description = \"Mısır\"\n",
        "        \n",
        "    def get_description(self):\n",
        "        return self.description\n",
        "    \n",
        "    def get_cost(self):\n",
        "        return self.cost\n",
        "    \n",
        "class NoExtra(ToppingDecarotor):\n",
        "    def __init__(self, pizza):\n",
        "        super().__init__(pizza)\n",
        "        self.cost = 0.00\n",
        "        self.description = \" \"\n",
        "        \n",
        "    def get_description(self):\n",
        "        return self.description\n",
        "    \n",
        "    def get_cost(self):\n",
        "        return self.cost\n",
        "     "
      ],
      "metadata": {
        "id": "wGg_7jqK9LpI"
      },
      "execution_count": null,
      "outputs": []
    },
    {
      "cell_type": "code",
      "source": [
        "import csv\n",
        "import os\n",
        "from datetime import datetime\n",
        "\n",
        "def write_order_to_csv(name, id_no, order_description, total_cost, card_no, card_cvv):\n",
        "    now = datetime.now()\n",
        "    order_time = now.strftime(\"%d/%m/%Y, %H:%M:%S\")\n",
        "\n",
        "    new_order = [name, id_no, order_description, \"%.2f\" % total_cost, order_time, card_no, card_cvv]\n",
        "\n",
        "    file_exists = os.path.isfile(\"Orders_Database.csv\")\n",
        "\n",
        "    with open(\"Orders_Database.csv\", mode=\"a\", newline=\"\") as file:\n",
        "        writer = csv.writer(file)\n",
        "        if file_exists:\n",
        "            writer.writerow(new_order)\n",
        "        else:\n",
        "            header = ([\"Ad-Soyad\", \"TC Kimlik No\", \"Sipariş Açıklaması\", \"Sipariş Tutarı\", \"Sipariş Zamanı\", \"Kart No\", \"Kart CVV\"])\n",
        "            writer.writerow(header)\n",
        "            writer.writerow(new_order)"
      ],
      "metadata": {
        "id": "_uWl3Syg9LiS"
      },
      "execution_count": null,
      "outputs": []
    },
    {
      "cell_type": "code",
      "source": [
        "\n",
        "def main():\n",
        "\n",
        "\n",
        "    # Kullanıcıdan pizza seçimini alma\n",
        "    chosen_pizza = input(\"Lütfen pizza seçiniz(1-4):\")\n",
        "    while chosen_pizza not in [\"1\", \"2\", \"3\", \"4\"]:\n",
        "        chosen_pizza = input(\"Lütfen geçerli bir pizza numarası seçiniz(1-4):\")\n",
        "    chosen_pizza = int(chosen_pizza)\n",
        "\n",
        "    #Seçilen pizzayı tanımlama\n",
        "    if chosen_pizza == 1:\n",
        "        pizza = Klasik()\n",
        "    elif chosen_pizza == 2:\n",
        "        pizza = Margarita()\n",
        "    elif chosen_pizza == 3:\n",
        "        pizza = TurkPizza()\n",
        "    elif chosen_pizza == 4:\n",
        "        pizza = SadePizza()\n",
        "\n",
        "\n",
        "\n",
        "    #Kullanıcıdan ekstra malzeme(sos) seçimini kaç ekstra istediğine göre alma\n",
        "    numberOfTopping = input(\"Kaç adet ekstra malzeme istiyorsunuz? (0-3)\")\n",
        "    while numberOfTopping not in [\"1\", \"2\", \"3\", \"0\"]:\n",
        "        numberOfTopping = input(\"Lütfen 0 ile 3 arasında bir sayı giriniz: \")\n",
        "    numberOfTopping = int(numberOfTopping)\n",
        "    topping = [NoExtra(pizza), NoExtra(pizza), NoExtra(pizza)]\n",
        "    \n",
        "    #Döngü ile kullanıcın istediği kadar malzeme seçim kodu çalışıyor\n",
        "    while numberOfTopping > 0:\n",
        "        \n",
        "        chosen_topping = input(\"Lütfen ekstra malzeme seçiniz (11-17)\")\n",
        "        while chosen_topping not in [\"11\", \"12\", \"13\", \"14\", \"15\", \"16\", \"17\"]:\n",
        "            chosen_topping = input(\"Lütfen geçerli bir malzeme numarası seçin (11-17): \")\n",
        "        chosen_topping = int(chosen_topping)\n",
        "        \n",
        "\n",
        "        if chosen_topping == 11:\n",
        "            topping[numberOfTopping-1] = Zeytin(pizza)\n",
        "        elif chosen_topping == 12:\n",
        "            topping[numberOfTopping-1] = Mantar(pizza)\n",
        "        elif chosen_topping == 13:\n",
        "            topping[numberOfTopping-1] = Peynir(pizza)\n",
        "        elif chosen_topping == 14:\n",
        "            topping[numberOfTopping-1] = Et(pizza)\n",
        "        elif chosen_topping == 15:\n",
        "            topping[numberOfTopping-1] = Sogan(pizza)\n",
        "        elif chosen_topping == 16:\n",
        "            topping[numberOfTopping-1] = Misir(pizza)\n",
        "        elif chosen_topping == 17:\n",
        "            topping[numberOfTopping-1] = NoExtra(pizza)\n",
        "        \n",
        "        numberOfTopping -=1\n",
        "        \n",
        "    name= input(\"Adınız-Soyadınız: \")\n",
        "    id_no= input(\"TC Kimlik Numaranız: \")\n",
        "    card_no= input(\"Kredi/Banka Kartı Numaranız: \")\n",
        "    card_cvv= input(\"Kartınızın CVV numarası: \")\n",
        "\n",
        "\n",
        "    \n",
        " \n",
        "    total_cost = pizza.get_cost() + topping[0].get_cost() + topping[1].get_cost() + topping[2].get_cost() \n",
        "    print(\"\\n**** SİPARİŞ ÖZETİ ****\")\n",
        "    print(\"Toplam Fiyat \\t\" \"%.2f\" % total_cost)\n",
        "    \n",
        "  \n",
        "    write_order_to_csv(name, id_no, total_cost, card_no, card_cvv)"
      ],
      "metadata": {
        "id": "LIU6NP9T9vB5"
      },
      "execution_count": null,
      "outputs": []
    },
    {
      "cell_type": "code",
      "source": [
        "\n",
        "main()"
      ],
      "metadata": {
        "id": "s4EpeeYJ9r_1"
      },
      "execution_count": null,
      "outputs": []
    }
  ]
}